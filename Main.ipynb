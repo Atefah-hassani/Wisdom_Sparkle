{
 "cells": [
  {
   "cell_type": "markdown",
   "id": "95e7e8db-7a82-4ae1-9b81-416a698e8f52",
   "metadata": {},
   "source": [
    "### Wisdom Sparke -- An Inventory Planning Project Through Pandas, NumPy & API \n",
    "###### (Data Sources: Amazon Book Sales CSV file & 2 New York Times API endpoints)"
   ]
  },
  {
   "cell_type": "code",
   "execution_count": 35,
   "id": "441f9827-5bdc-4a67-b53b-ee98cdbc5524",
   "metadata": {},
   "outputs": [],
   "source": [
    "import requests\n",
    "import pandas as pd"
   ]
  },
  {
   "cell_type": "markdown",
   "id": "317b58af-8289-4be9-b9ef-18630cef1bdf",
   "metadata": {},
   "source": [
    "#### Retrieve Book Review URL"
   ]
  },
  {
   "cell_type": "code",
   "execution_count": 38,
   "id": "1befefe3-01c9-46ee-a1f3-0c6f72700db9",
   "metadata": {},
   "outputs": [
    {
     "name": "stdout",
     "output_type": "stream",
     "text": [
      "\n",
      "📖 Book Title: Becoming\n",
      "✍️ Author: Michelle Obama\n",
      "🗓️ Publication Date: 2018-12-06\n",
      "📝 Summary: The former first lady’s long-awaited new memoir recounts with insight, candor and wit her family’s trajectory from the Jim Crow South to Chicago’s South Side and her own improbable journey from there to the White House.\n",
      "🔗 Review URL: https://www.nytimes.com/2018/12/06/books/review/michelle-obama-becoming-memoir.html\n",
      "--------------------------------------------------\n"
     ]
    }
   ],
   "source": [
    "def get_nyt_book_reviews(api_key, title=None, author=None, isbn=None):\n",
    "    \n",
    "    # NYT Reviews API endpoint\n",
    "    url = \"https://api.nytimes.com/svc/books/v3/reviews.json\"\n",
    "    \n",
    "    # Query parameters\n",
    "    params = {\n",
    "        \"api-key\": api_key,\n",
    "        \"title\": title,\n",
    "        \"author\": author,\n",
    "        \"isbn\": isbn\n",
    "    }\n",
    "    \n",
    "    try:\n",
    "        # Make GET request to NYT API\n",
    "        response = requests.get(url, params=params)\n",
    "        response.raise_for_status()  # Raise error for bad requests\n",
    "        \n",
    "        # Parse JSON response\n",
    "        data = response.json()\n",
    "        \n",
    "        # Check if results are available\n",
    "        if data.get(\"results\"):\n",
    "            for review in data[\"results\"]:\n",
    "                print(f\"\\n📖 Book Title: {review['book_title']}\")\n",
    "                print(f\"✍️ Author: {review['book_author']}\")\n",
    "                print(f\"🗓️ Publication Date: {review['publication_dt']}\")\n",
    "                print(f\"📝 Summary: {review['summary']}\")\n",
    "                print(f\"🔗 Review URL: {review['url']}\\n{'-'*50}\")\n",
    "        else:\n",
    "            print(\"No reviews found for the given criteria.\")\n",
    "            \n",
    "    except requests.exceptions.RequestException as error:\n",
    "        print(f\"Error: {error}\")\n",
    "\n",
    "# Replace with your NYT API key\n",
    "API_KEY = \"KRNfb5hISnWt9MtiZ90Afg4zjBk1MHPm\"\n",
    "\n",
    "# Example usage:\n",
    "get_nyt_book_reviews(api_key=API_KEY, title=[\"becoming\"])\n"
   ]
  },
  {
   "cell_type": "markdown",
   "id": "405935c7-3b6b-4ed8-bec2-1d084d5cac24",
   "metadata": {},
   "source": [
    "#### Retrieve All Best-sellers From All Lists "
   ]
  },
  {
   "cell_type": "code",
   "execution_count": 41,
   "id": "2e34729f-7ab9-43d5-acee-f45efcb5d0c8",
   "metadata": {},
   "outputs": [
    {
     "name": "stdout",
     "output_type": "stream",
     "text": [
      "                           list_name            title  weeks_on_list  \\\n",
      "0  Combined Print and E-Book Fiction       ONYX STORM              5   \n",
      "1  Combined Print and E-Book Fiction   MIDNIGHT BLACK              1   \n",
      "2  Combined Print and E-Book Fiction  THE NIGHTINGALE             70   \n",
      "3  Combined Print and E-Book Fiction      FOURTH WING             83   \n",
      "4  Combined Print and E-Book Fiction         DEEP END              3   \n",
      "\n",
      "           author  rank price  \n",
      "0  Rebecca Yarros     1  0.00  \n",
      "1    Mark Greaney     2  0.00  \n",
      "2  Kristin Hannah     3  0.00  \n",
      "3  Rebecca Yarros     4  0.00  \n",
      "4   Ali Hazelwood     5  0.00  \n"
     ]
    }
   ],
   "source": [
    "# Replace with your NYT API Key\n",
    "API_KEY = \"KRNfb5hISnWt9MtiZ90Afg4zjBk1MHPm\"\n",
    "\n",
    "# NYT Books API endpoint for full bestsellers overview\n",
    "URL = \"https://api.nytimes.com/svc/books/v3/lists/full-overview.json\"\n",
    "\n",
    "# Request data from NYT API (latest list by leaving 'published_date' blank)\n",
    "params = {\"api-key\": API_KEY}\n",
    "response = requests.get(URL, params=params)\n",
    "\n",
    "# Check if the request was successful\n",
    "if response.status_code == 200:\n",
    "    data = response.json()\n",
    "\n",
    "    # Extract relevant data\n",
    "    book_records = []\n",
    "    for list_data in data[\"results\"][\"lists\"]:\n",
    "        list_name = list_data[\"list_name\"]  # List category name\n",
    "\n",
    "        for book in list_data[\"books\"]:  # Loop through books in the list\n",
    "            book_records.append({\n",
    "                \"list_name\": list_name,\n",
    "                \"title\": book[\"title\"],\n",
    "                \"weeks_on_list\": book.get(\"weeks_on_list\", 0),  # Default to 0 if missing\n",
    "                \"author\": book[\"author\"],\n",
    "                \"rank\": book[\"rank\"],\n",
    "                \"price\": book[\"price\"]\n",
    "                \n",
    "            })\n",
    "\n",
    "    # Convert to Pandas DataFrame\n",
    "    df = pd.DataFrame(book_records)\n",
    "    \n",
    "    print(df.head())  # Preview first few rows\n",
    "\n",
    "else:\n",
    "    print(\"Error:\", response.status_code, response.json())  # Print error details"
   ]
  },
  {
   "cell_type": "code",
   "execution_count": 43,
   "id": "3deeee6b-caaf-4c74-8be1-8911e7a7b120",
   "metadata": {},
   "outputs": [],
   "source": [
    "# df"
   ]
  },
  {
   "cell_type": "code",
   "execution_count": 45,
   "id": "55006613-2992-40bb-b600-989d03b88547",
   "metadata": {},
   "outputs": [
    {
     "data": {
      "text/html": [
       "<div>\n",
       "<style scoped>\n",
       "    .dataframe tbody tr th:only-of-type {\n",
       "        vertical-align: middle;\n",
       "    }\n",
       "\n",
       "    .dataframe tbody tr th {\n",
       "        vertical-align: top;\n",
       "    }\n",
       "\n",
       "    .dataframe thead th {\n",
       "        text-align: right;\n",
       "    }\n",
       "</style>\n",
       "<table border=\"1\" class=\"dataframe\">\n",
       "  <thead>\n",
       "    <tr style=\"text-align: right;\">\n",
       "      <th></th>\n",
       "      <th>title</th>\n",
       "      <th>author</th>\n",
       "    </tr>\n",
       "  </thead>\n",
       "  <tbody>\n",
       "    <tr>\n",
       "      <th>0</th>\n",
       "      <td>ONYX STORM</td>\n",
       "      <td>Rebecca Yarros</td>\n",
       "    </tr>\n",
       "    <tr>\n",
       "      <th>1</th>\n",
       "      <td>MIDNIGHT BLACK</td>\n",
       "      <td>Mark Greaney</td>\n",
       "    </tr>\n",
       "    <tr>\n",
       "      <th>2</th>\n",
       "      <td>THE NIGHTINGALE</td>\n",
       "      <td>Kristin Hannah</td>\n",
       "    </tr>\n",
       "    <tr>\n",
       "      <th>3</th>\n",
       "      <td>FOURTH WING</td>\n",
       "      <td>Rebecca Yarros</td>\n",
       "    </tr>\n",
       "    <tr>\n",
       "      <th>4</th>\n",
       "      <td>DEEP END</td>\n",
       "      <td>Ali Hazelwood</td>\n",
       "    </tr>\n",
       "    <tr>\n",
       "      <th>...</th>\n",
       "      <td>...</td>\n",
       "      <td>...</td>\n",
       "    </tr>\n",
       "    <tr>\n",
       "      <th>225</th>\n",
       "      <td>BETTING ON YOU</td>\n",
       "      <td>Lynn Painter</td>\n",
       "    </tr>\n",
       "    <tr>\n",
       "      <th>226</th>\n",
       "      <td>THE PARTY</td>\n",
       "      <td>Natasha Preston</td>\n",
       "    </tr>\n",
       "    <tr>\n",
       "      <th>227</th>\n",
       "      <td>THE BOOK THIEF</td>\n",
       "      <td>Markus Zusak</td>\n",
       "    </tr>\n",
       "    <tr>\n",
       "      <th>228</th>\n",
       "      <td>THIS SONG IS (NOT) FOR YOU</td>\n",
       "      <td>Laura Nowlin</td>\n",
       "    </tr>\n",
       "    <tr>\n",
       "      <th>229</th>\n",
       "      <td>A THOUSAND BOY KISSES</td>\n",
       "      <td>Tillie Cole</td>\n",
       "    </tr>\n",
       "  </tbody>\n",
       "</table>\n",
       "<p>230 rows × 2 columns</p>\n",
       "</div>"
      ],
      "text/plain": [
       "                          title           author\n",
       "0                    ONYX STORM   Rebecca Yarros\n",
       "1                MIDNIGHT BLACK     Mark Greaney\n",
       "2               THE NIGHTINGALE   Kristin Hannah\n",
       "3                   FOURTH WING   Rebecca Yarros\n",
       "4                      DEEP END    Ali Hazelwood\n",
       "..                          ...              ...\n",
       "225              BETTING ON YOU     Lynn Painter\n",
       "226                   THE PARTY  Natasha Preston\n",
       "227              THE BOOK THIEF     Markus Zusak\n",
       "228  THIS SONG IS (NOT) FOR YOU     Laura Nowlin\n",
       "229       A THOUSAND BOY KISSES      Tillie Cole\n",
       "\n",
       "[230 rows x 2 columns]"
      ]
     },
     "execution_count": 45,
     "metadata": {},
     "output_type": "execute_result"
    }
   ],
   "source": [
    "# Save as CSV (only keeping \"title\" & \"author\")\n",
    "\n",
    "booklist = df[[\"title\",\"author\"]]\n",
    "booklist.to_csv(\"nyt_books_inventory.csv\", index=False)\n",
    "booklist"
   ]
  },
  {
   "cell_type": "code",
   "execution_count": 47,
   "id": "10ed8643-0fb2-4101-94c9-c52798b0e2e2",
   "metadata": {},
   "outputs": [
    {
     "data": {
      "text/html": [
       "<a href='nyt_books_inventory.csv' target='_blank'>nyt_books_inventory.csv</a><br>"
      ],
      "text/plain": [
       "C:\\Users\\luson\\IH_QUESTS\\Project-1\\nyt_books_inventory.csv"
      ]
     },
     "execution_count": 47,
     "metadata": {},
     "output_type": "execute_result"
    }
   ],
   "source": [
    "# Download this csv file into local computer.\n",
    "\n",
    "from IPython.display import FileLink\n",
    "# Create a download link\n",
    "FileLink(\"nyt_books_inventory.csv\")"
   ]
  }
 ],
 "metadata": {
  "kernelspec": {
   "display_name": "Python 3 (ipykernel)",
   "language": "python",
   "name": "python3"
  },
  "language_info": {
   "codemirror_mode": {
    "name": "ipython",
    "version": 3
   },
   "file_extension": ".py",
   "mimetype": "text/x-python",
   "name": "python",
   "nbconvert_exporter": "python",
   "pygments_lexer": "ipython3",
   "version": "3.12.7"
  }
 },
 "nbformat": 4,
 "nbformat_minor": 5
}
